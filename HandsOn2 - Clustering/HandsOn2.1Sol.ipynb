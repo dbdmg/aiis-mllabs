{
 "cells": [
  {
   "attachments": {},
   "cell_type": "markdown",
   "metadata": {},
   "source": [
    "# Hands On 2 - Machine learning on clustering\n",
    "\n",
    "The purpose of this laboratory is to make you practice with the data preparation process. More specifically, you will tackle the task with tabular and textual input data, learning how to handle anomalies in the data, missing values and more.\n",
    "\n",
    "\n",
    "### 1.0 Plotting\n",
    "\n",
    "In order to complete some of the optional exercises you will need the `matplotlib` plotting library. You can read more about it on its [official documentation](https://matplotlib.org/). You can check if it is already installed by running `import matplotlib` in Jupyter.\n",
    "Among its numerous functionalities, you will use the histogram plotting function in this laboratories. An histogram is a simple representation of the distribution of numerical data. It presents the binned range of values on x-axis (i.e. a series of intervals in which data is divided) and the frequency of each bin on the y-axis. \n",
    "Here it is a short python script on how to use matplotlib to plot the histogram of values contained in a list."
   ]
  },
  {
   "cell_type": "code",
   "execution_count": 1,
   "metadata": {},
   "outputs": [
    {
     "data": {
      "image/png": "[encoded data removed]",
      "text/plain": [
       "<Figure size 432x288 with 1 Axes>"
      ]
     },
     "metadata": {
      "needs_background": "light"
     },
     "output_type": "display_data"
    }
   ],
   "source": [
    "from random import gauss\n",
    "import matplotlib.pyplot as plt\n",
    "%matplotlib inline\n",
    "\n",
    "l = [gauss(0, 1) for _ in range(500)]\n",
    "\n",
    "plt.hist(l)\n",
    "plt.title('Gaussian distribution (mu=0, sigma=1)')\n",
    "plt.show()\n"
   ]
  },
  {
   "attachments": {},
   "cell_type": "markdown",
   "metadata": {},
   "source": [
    "## 1.1 Global Land Temperature\n",
    "\n",
    "The Global Land Temperature (GLT) dataset is a large collection of measurements actively maintained by Berkeley Earth. It contains the raw source data measured with stations all around the globe, plus an intermediate format and several formatted output files. Data span from ∼1750 up to recent days with monthly and daily availability. Measurements are provided by hemispheres, states, countries, cities and more. You can read more about the dataset at the [Berkeley Earth website](https://berkeleyearth.org/data/). \n",
    "\n",
    "For the purpose of this laboratory you will work on a modified, smaller but dirtier, version of the original GLT dataset, to stress the importance of data preprocessing. More specifically, this didactic version contains the formatted output files of the major cities of the globe with monthly granularity. For the sake of simplicity, the analysis will range between almost two centuries (i.e. between the years 1817 and 2012).\n",
    "\n",
    "The dataset is composed of **∼200k rows** corresponding to the measurements taken the first day of the month in a given city. Each measurement is then described by 7 values:\n",
    "- Date, when the measurement was taken\n",
    "- AverageTemperature\n",
    "- AverageTemperatureUncertainty\n",
    "- City, from which the measurement was taken\n",
    "- Country\n",
    "- Latitude\n",
    "- Longitude\n",
    "The dataset is available in CSV format. You can find it at the following URL`\n",
    "\n",
    "https://raw.githubusercontent.com/dbdmg/data-science-lab/master/datasets/GLT_filtered.csv\n",
    "\n",
    "## Data Preprocessing\n",
    "\n",
    "The main goal of this exercise is to learn how to clean a real-world dataset searching for anomalies, such as missing values or outliers, in its data.\n",
    "\n",
    "**Prerequisites.** There are many ways to handle missing values. One can decide to delete a row of the dataset based on whether a missing value is present or not. This strategy can be adopted when the dataset is large and the information loss does not affect the overall distribution. Another common solution is to fill every missing value. If data has not a specific order, they can be replaced with the mean (or the median) of the involved attribute. Temporal data, instead, allow to replace missing values with values of adjacent rows, e.g. by averaging them. Clearly, this technique is possible if the data type allows to compute the mean."
   ]
  },
  {
   "attachments": {},
   "cell_type": "markdown",
   "metadata": {},
   "source": [
    "1. Load the Global Land Temperature dataset as a list of lists. Before starting, take a moment to better inspect the attributes you are going to work on. How many of them are nominal, how many continuous or discrete?"
   ]
  },
  {
   "cell_type": "code",
   "execution_count": 2,
   "metadata": {},
   "outputs": [],
   "source": [
    "import pandas as pd\n",
    "import numpy as np\n",
    "\n",
    "df = pd.read_csv('https://raw.githubusercontent.com/dbdmg/data-science-lab/master/datasets/GLT_filtered.csv')"
   ]
  },
  {
   "cell_type": "code",
   "execution_count": 3,
   "metadata": {},
   "outputs": [
    {
     "data": {
      "text/html": [
       "<div>\n",
       "<style scoped>\n",
       "    .dataframe tbody tr th:only-of-type {\n",
       "        vertical-align: middle;\n",
       "    }\n",
       "\n",
       "    .dataframe tbody tr th {\n",
       "        vertical-align: top;\n",
       "    }\n",
       "\n",
       "    .dataframe thead th {\n",
       "        text-align: right;\n",
       "    }\n",
       "</style>\n",
       "<table border=\"1\" class=\"dataframe\">\n",
       "  <thead>\n",
       "    <tr style=\"text-align: right;\">\n",
       "      <th></th>\n",
       "      <th>City</th>\n",
       "      <th>Country</th>\n",
       "      <th>Latitude</th>\n",
       "      <th>Longitude</th>\n",
       "    </tr>\n",
       "  </thead>\n",
       "  <tbody>\n",
       "    <tr>\n",
       "      <th>count</th>\n",
       "      <td>219575</td>\n",
       "      <td>219575</td>\n",
       "      <td>219575</td>\n",
       "      <td>219575</td>\n",
       "    </tr>\n",
       "    <tr>\n",
       "      <th>unique</th>\n",
       "      <td>100</td>\n",
       "      <td>49</td>\n",
       "      <td>49</td>\n",
       "      <td>93</td>\n",
       "    </tr>\n",
       "    <tr>\n",
       "      <th>top</th>\n",
       "      <td>Delhi</td>\n",
       "      <td>China</td>\n",
       "      <td>31.35N</td>\n",
       "      <td>31.38E</td>\n",
       "    </tr>\n",
       "    <tr>\n",
       "      <th>freq</th>\n",
       "      <td>2352</td>\n",
       "      <td>35300</td>\n",
       "      <td>13493</td>\n",
       "      <td>6576</td>\n",
       "    </tr>\n",
       "  </tbody>\n",
       "</table>\n",
       "</div>"
      ],
      "text/plain": [
       "          City Country Latitude Longitude\n",
       "count   219575  219575   219575    219575\n",
       "unique     100      49       49        93\n",
       "top      Delhi   China   31.35N    31.38E\n",
       "freq      2352   35300    13493      6576"
      ]
     },
     "execution_count": 3,
     "metadata": {},
     "output_type": "execute_result"
    }
   ],
   "source": [
    "df[['City', 'Country', 'Latitude', 'Longitude']].describe()"
   ]
  },
  {
   "cell_type": "code",
   "execution_count": 4,
   "metadata": {},
   "outputs": [
    {
     "data": {
      "text/html": [
       "<div>\n",
       "<style scoped>\n",
       "    .dataframe tbody tr th:only-of-type {\n",
       "        vertical-align: middle;\n",
       "    }\n",
       "\n",
       "    .dataframe tbody tr th {\n",
       "        vertical-align: top;\n",
       "    }\n",
       "\n",
       "    .dataframe thead th {\n",
       "        text-align: right;\n",
       "    }\n",
       "</style>\n",
       "<table border=\"1\" class=\"dataframe\">\n",
       "  <thead>\n",
       "    <tr style=\"text-align: right;\">\n",
       "      <th></th>\n",
       "      <th>AverageTemperature</th>\n",
       "      <th>AverageTemperatureUncertainty</th>\n",
       "    </tr>\n",
       "  </thead>\n",
       "  <tbody>\n",
       "    <tr>\n",
       "      <th>count</th>\n",
       "      <td>191994.000000</td>\n",
       "      <td>191994.000000</td>\n",
       "    </tr>\n",
       "    <tr>\n",
       "      <th>mean</th>\n",
       "      <td>19.074293</td>\n",
       "      <td>1.148474</td>\n",
       "    </tr>\n",
       "    <tr>\n",
       "      <th>std</th>\n",
       "      <td>11.705712</td>\n",
       "      <td>3.374958</td>\n",
       "    </tr>\n",
       "    <tr>\n",
       "      <th>min</th>\n",
       "      <td>-26.772000</td>\n",
       "      <td>0.049000</td>\n",
       "    </tr>\n",
       "    <tr>\n",
       "      <th>25%</th>\n",
       "      <td>13.399000</td>\n",
       "      <td>0.329000</td>\n",
       "    </tr>\n",
       "    <tr>\n",
       "      <th>50%</th>\n",
       "      <td>20.857000</td>\n",
       "      <td>0.549000</td>\n",
       "    </tr>\n",
       "    <tr>\n",
       "      <th>75%</th>\n",
       "      <td>26.112000</td>\n",
       "      <td>1.151000</td>\n",
       "    </tr>\n",
       "    <tr>\n",
       "      <th>max</th>\n",
       "      <td>88.007000</td>\n",
       "      <td>41.588600</td>\n",
       "    </tr>\n",
       "  </tbody>\n",
       "</table>\n",
       "</div>"
      ],
      "text/plain": [
       "       AverageTemperature  AverageTemperatureUncertainty\n",
       "count       191994.000000                  191994.000000\n",
       "mean            19.074293                       1.148474\n",
       "std             11.705712                       3.374958\n",
       "min            -26.772000                       0.049000\n",
       "25%             13.399000                       0.329000\n",
       "50%             20.857000                       0.549000\n",
       "75%             26.112000                       1.151000\n",
       "max             88.007000                      41.588600"
      ]
     },
     "execution_count": 4,
     "metadata": {},
     "output_type": "execute_result"
    }
   ],
   "source": [
    "df.describe()"
   ]
  },
  {
   "cell_type": "code",
   "execution_count": 5,
   "metadata": {},
   "outputs": [
    {
     "data": {
      "text/html": [
       "<div>\n",
       "<style scoped>\n",
       "    .dataframe tbody tr th:only-of-type {\n",
       "        vertical-align: middle;\n",
       "    }\n",
       "\n",
       "    .dataframe tbody tr th {\n",
       "        vertical-align: top;\n",
       "    }\n",
       "\n",
       "    .dataframe thead th {\n",
       "        text-align: right;\n",
       "    }\n",
       "</style>\n",
       "<table border=\"1\" class=\"dataframe\">\n",
       "  <thead>\n",
       "    <tr style=\"text-align: right;\">\n",
       "      <th></th>\n",
       "      <th>Date</th>\n",
       "      <th>AverageTemperature</th>\n",
       "      <th>AverageTemperatureUncertainty</th>\n",
       "      <th>City</th>\n",
       "      <th>Country</th>\n",
       "      <th>Latitude</th>\n",
       "      <th>Longitude</th>\n",
       "    </tr>\n",
       "  </thead>\n",
       "  <tbody>\n",
       "    <tr>\n",
       "      <th>0</th>\n",
       "      <td>1849-01-01</td>\n",
       "      <td>26.704</td>\n",
       "      <td>1.435</td>\n",
       "      <td>Abidjan</td>\n",
       "      <td>Côte D'Ivoire</td>\n",
       "      <td>5.63N</td>\n",
       "      <td>3.23W</td>\n",
       "    </tr>\n",
       "    <tr>\n",
       "      <th>1</th>\n",
       "      <td>1849-02-01</td>\n",
       "      <td>27.434</td>\n",
       "      <td>1.362</td>\n",
       "      <td>Abidjan</td>\n",
       "      <td>Côte D'Ivoire</td>\n",
       "      <td>5.63N</td>\n",
       "      <td>3.23W</td>\n",
       "    </tr>\n",
       "    <tr>\n",
       "      <th>2</th>\n",
       "      <td>1849-03-01</td>\n",
       "      <td>NaN</td>\n",
       "      <td>NaN</td>\n",
       "      <td>Abidjan</td>\n",
       "      <td>Côte D'Ivoire</td>\n",
       "      <td>5.63N</td>\n",
       "      <td>3.23W</td>\n",
       "    </tr>\n",
       "    <tr>\n",
       "      <th>3</th>\n",
       "      <td>1849-04-01</td>\n",
       "      <td>26.140</td>\n",
       "      <td>1.387</td>\n",
       "      <td>Abidjan</td>\n",
       "      <td>Côte D'Ivoire</td>\n",
       "      <td>5.63N</td>\n",
       "      <td>3.23W</td>\n",
       "    </tr>\n",
       "    <tr>\n",
       "      <th>4</th>\n",
       "      <td>1849-05-01</td>\n",
       "      <td>25.427</td>\n",
       "      <td>1.200</td>\n",
       "      <td>Abidjan</td>\n",
       "      <td>Côte D'Ivoire</td>\n",
       "      <td>5.63N</td>\n",
       "      <td>3.23W</td>\n",
       "    </tr>\n",
       "  </tbody>\n",
       "</table>\n",
       "</div>"
      ],
      "text/plain": [
       "         Date  AverageTemperature  AverageTemperatureUncertainty     City  \\\n",
       "0  1849-01-01              26.704                          1.435  Abidjan   \n",
       "1  1849-02-01              27.434                          1.362  Abidjan   \n",
       "2  1849-03-01                 NaN                            NaN  Abidjan   \n",
       "3  1849-04-01              26.140                          1.387  Abidjan   \n",
       "4  1849-05-01              25.427                          1.200  Abidjan   \n",
       "\n",
       "         Country Latitude Longitude  \n",
       "0  Côte D'Ivoire    5.63N     3.23W  \n",
       "1  Côte D'Ivoire    5.63N     3.23W  \n",
       "2  Côte D'Ivoire    5.63N     3.23W  \n",
       "3  Côte D'Ivoire    5.63N     3.23W  \n",
       "4  Côte D'Ivoire    5.63N     3.23W  "
      ]
     },
     "execution_count": 5,
     "metadata": {},
     "output_type": "execute_result"
    }
   ],
   "source": [
    "df.head()"
   ]
  },
  {
   "attachments": {},
   "cell_type": "markdown",
   "metadata": {},
   "source": [
    "2. Analyze the attribute **AverageTemperature**, which contains missing values. Fill any gap with the arithmetic mean among the closest antecedent and the closest successive measurements in time, **taken in the same city**. Assume the following rules for edge cases:\n",
    "    \n",
    "    **(a)** it can happen that a missing value does not have a preceding (or successive) measurement. This happens when the missing value is the first (or last) value of the dataset. If this is the case, consider the missing value to be preceded (or followed) by a 0, then compute the mean accordingly.\n",
    "\n",
    "    ```\n",
    "    original_list = [ '', 5, 6, '' ]\n",
    "    step_1 = [ 2.5, 5, 6, '' ] # (0 + 5) / 2\n",
    "    step_2 = [ 2.5, 5, 6, 3 ] # (6 + 0) / 2`\n",
    "    ```\n",
    "\n",
    "    **(b)** if there are consecutive missing values, just compute them in temporal order and use the newly inserted values to evaluate the following ones. Here it is an example with a simple list where both (a) and (b) rules have been applied:`\n",
    "    \n",
    "    ```\n",
    "    original_list = [ '', '', 24, 28.9 ]\n",
    "    step_1 = [ 12, '', 24, 28.9 ] # (0 + 24) / 2\n",
    "    step_2 = [ 12, 18, 24, 28.9 ] # (12 + 24) / 2\n",
    "    ```\n",
    "> **Note:** Missed values in pandas Series are `NaN`"
   ]
  },
  {
   "cell_type": "code",
   "execution_count": 6,
   "metadata": {},
   "outputs": [
    {
     "data": {
      "text/plain": [
       "AverageTemperature               27581\n",
       "AverageTemperatureUncertainty    27581\n",
       "dtype: int64"
      ]
     },
     "execution_count": 6,
     "metadata": {},
     "output_type": "execute_result"
    }
   ],
   "source": [
    "df[['AverageTemperature', 'AverageTemperatureUncertainty']].isna().sum()"
   ]
  },
  {
   "cell_type": "code",
   "execution_count": 7,
   "metadata": {},
   "outputs": [],
   "source": [
    "def fill_gaps(data, cities):\n",
    "    right_i = 0\n",
    "    right_v = 0\n",
    "    filled_data = data.copy()\n",
    "    \n",
    "    for i, value in enumerate(filled_data):\n",
    "        if i == 0 or cities[i] != cities[i-1]:\n",
    "            left_v = 0\n",
    "        else:\n",
    "            left_v = filled_data[i-1]\n",
    "\n",
    "        # reuse the right_v value, useful when there are multiple consecutive missing values\n",
    "        if i < right_i:\n",
    "            filled_data[i] = (left_v + right_v) / 2\n",
    "            continue\n",
    "\n",
    "        if np.isnan(value):\n",
    "            for j in range(i+1, len(filled_data)):\n",
    "                if cities[j] != cities[i]: # this check must come before\n",
    "                    right_v = 0\n",
    "                    break\n",
    "                elif not np.isnan(filled_data[j]):\n",
    "                    right_v = filled_data[j]\n",
    "                    break\n",
    "\n",
    "            if i == len(filled_data)-1: # edge case: the last value of the last city is empty\n",
    "                right_v = 0\n",
    "\n",
    "            right_i = j \n",
    "            filled_data[i] = (left_v + right_v) / 2\n",
    "\n",
    "        else:\n",
    "            pass # data[i] is fine\n",
    "    return filled_data"
   ]
  },
  {
   "cell_type": "code",
   "execution_count": 9,
   "metadata": {},
   "outputs": [
    {
     "name": "stdout",
     "output_type": "stream",
     "text": [
      "Original list: 0     NaN\n",
      "1    12.0\n",
      "2     NaN\n",
      "3     NaN\n",
      "4     NaN\n",
      "5    15.0\n",
      "6     NaN\n",
      "Name: AverageTemperature, dtype: float64\n",
      "Filled list: 0     6.00\n",
      "1    12.00\n",
      "2     6.00\n",
      "3     7.50\n",
      "4    11.25\n",
      "5    15.00\n",
      "6     7.50\n",
      "Name: AverageTemperature, dtype: float64\n"
     ]
    }
   ],
   "source": [
    "test_df = pd.DataFrame({\n",
    "    'AverageTemperature': [np.nan, 12, np.nan, np.nan, np.nan, 15, np.nan],\n",
    "    'City': ['Rome', 'Rome', 'Rome', 'Turin', 'Turin', 'Turin', 'Turin']})\n",
    "\n",
    "print('Original list:', test_df.AverageTemperature)\n",
    "test_df.AverageTemperature = fill_gaps(test_df.AverageTemperature, test_df.City)\n",
    "print('Filled list:', test_df.AverageTemperature)"
   ]
  },
  {
   "cell_type": "code",
   "execution_count": 10,
   "metadata": {},
   "outputs": [
    {
     "name": "stdout",
     "output_type": "stream",
     "text": [
      "Null values: 0\n"
     ]
    }
   ],
   "source": [
    "# Check the result:\n",
    "df.AverageTemperature = fill_gaps(df.AverageTemperature, df.City)\n",
    "print(f\"Null values: {df.AverageTemperature.isna().sum()}\")"
   ]
  },
  {
   "attachments": {},
   "cell_type": "markdown",
   "metadata": {},
   "source": [
    "3. Define a function that, given the name of a city and an integer N > 0, prints:\n",
    "    (a) the top N hottest measurements;\n",
    "    (b) the top N coldest measurements."
   ]
  },
  {
   "cell_type": "code",
   "execution_count": 11,
   "metadata": {},
   "outputs": [],
   "source": [
    "def print_hottest_coolest(city, N, data):\n",
    "    srtd = data[data.City==city].AverageTemperature.sort_values(ascending=False)\n",
    "    print(f'The top {N} hottest measurements taken in {city} are:\\n', srtd.iloc[:N])\n",
    "    print(f'The top {N} coolest measurements taken in {city} are:\\n', srtd.iloc[-N:])"
   ]
  },
  {
   "cell_type": "code",
   "execution_count": 12,
   "metadata": {},
   "outputs": [
    {
     "name": "stdout",
     "output_type": "stream",
     "text": [
      "The top 3 hottest measurements taken in Rome are:\n",
      " 173742    25.951\n",
      "173741    24.998\n",
      "173634    24.873\n",
      "Name: AverageTemperature, dtype: float64\n",
      "The top 3 coolest measurements taken in Rome are:\n",
      " 172067   -1.019\n",
      "173172   -1.304\n",
      "173003   -1.441\n",
      "Name: AverageTemperature, dtype: float64\n"
     ]
    }
   ],
   "source": [
    "print_hottest_coolest('Rome', 3, df)"
   ]
  },
  {
   "attachments": {},
   "cell_type": "markdown",
   "metadata": {},
   "source": [
    "4. Let’s search for other anomalies in data distribution with the help of matplotlib. Plot the distribution of the average land temperatures for Rome and Bangkok using the aforementioned histogram\n",
    "plotting function.\n",
    "\n",
    "> **Info:** calling the plt.hist() method twice will draw the second histogram onto the canvas generated by the first call.\n"
   ]
  },
  {
   "cell_type": "code",
   "execution_count": 13,
   "metadata": {},
   "outputs": [
    {
     "data": {
      "image/png": "[encoded data removed]",
      "text/plain": [
       "<Figure size 432x288 with 1 Axes>"
      ]
     },
     "metadata": {
      "needs_background": "light"
     },
     "output_type": "display_data"
    }
   ],
   "source": [
    "import matplotlib.pyplot as plt\n",
    "\n",
    "for city in ['Rome', 'Bangkok']:\n",
    "    plt.hist(df[df.City==city].AverageTemperature, label=city)\n",
    "plt.legend()\n",
    "_ = plt.xlabel('AverageTemperature')"
   ]
  },
  {
   "cell_type": "markdown",
   "metadata": {},
   "source": [
    "As you can see, Rome and Bangkok have very different temperature distributions, but this seems\n",
    "plausible. What it looks strange is the large difference in their temperatures’ magnitude. Is it possible that all sensors from Bangkok stations, along the entire time-span, were faulty? Could they were configured to use another representation of the temperature measurement? Can you figure out a data cleaning step to solve it?\n",
    "\n",
    "_Before continuing, try to answer to these questions._"
   ]
  },
  {
   "attachments": {},
   "cell_type": "markdown",
   "metadata": {},
   "source": [
    "5. One might think that Bangkok sensor provide temperature samples in degrees Fahrenheit while\n",
    "the ones located in Rome use the Celsius notation, which is the common representation in the whole dataset. Write a function to transform Fahrenheit measurements back to Celsius, apply it to your data and plot the two distribution again.\n",
    "\n",
    "> **Info:** remember that the mapping function from Celsius to Fahrenheit is the following\n",
    "> $$T_F = 1.8 · T_C + 32$$\n"
   ]
  },
  {
   "cell_type": "code",
   "execution_count": 14,
   "metadata": {},
   "outputs": [
    {
     "data": {
      "image/png": "[encoded data removed]",
      "text/plain": [
       "<Figure size 432x288 with 1 Axes>"
      ]
     },
     "metadata": {
      "needs_background": "light"
     },
     "output_type": "display_data"
    }
   ],
   "source": [
    "def fah2cel(deg_fah):\n",
    "    return (deg_fah - 32) / 1.8\n",
    "\n",
    "bang_celsius = df[df.City=='Bangkok'].AverageTemperature.apply(fah2cel)\n",
    "plt.hist(df[df.City=='Rome'].AverageTemperature, label='Rome')\n",
    "plt.hist(df[df.City=='Bangkok'].AverageTemperature, label='Bangkok (Fahrenheit)', alpha=0.6)\n",
    "plt.hist(bang_celsius, label='Bangkok (Celsius)')\n",
    "plt.legend()\n",
    "_ = plt.xlabel('AverageTemperature')"
   ]
  },
  {
   "cell_type": "code",
   "execution_count": 15,
   "metadata": {},
   "outputs": [
    {
     "name": "stdout",
     "output_type": "stream",
     "text": [
      "Rome average temperature: 12.01, Standard deviation: 6.694663\n",
      "\n",
      "Bangkok average temperature: 80.73, Standard deviation: 3.05\n"
     ]
    }
   ],
   "source": [
    "print(f\"Rome average temperature: {df[df.City=='Rome'].AverageTemperature.mean():.2f}, Standard deviation: {df[df.City=='Rome'].AverageTemperature.std():2f}\\n\")\n",
    "print(f\"Bangkok average temperature: {df[df.City=='Bangkok'].AverageTemperature.mean():.2f}, Standard deviation: {df[df.City=='Bangkok'].AverageTemperature.std():.2f}\")"
   ]
  },
  {
   "cell_type": "code",
   "execution_count": null,
   "metadata": {},
   "outputs": [],
   "source": []
  }
 ],
 "metadata": {
  "kernelspec": {
   "display_name": "base",
   "language": "python",
   "name": "python3"
  },
  "language_info": {
   "codemirror_mode": {
    "name": "ipython",
    "version": 3
   },
   "file_extension": ".py",
   "mimetype": "text/x-python",
   "name": "python",
   "nbconvert_exporter": "python",
   "pygments_lexer": "ipython3",
   "version": "3.9.12"
  },
  "orig_nbformat": 4,
  "vscode": {
   "interpreter": {
    "hash": "a2abf257b2adb4079ad80be3a8eaee4074fa006c61c8cda918f5cbe42d818212"
   }
  }
 },
 "nbformat": 4,
 "nbformat_minor": 2
}
