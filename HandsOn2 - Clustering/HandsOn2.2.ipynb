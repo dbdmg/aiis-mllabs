{
 "cells": [
  {
   "attachments": {},
   "cell_type": "markdown",
   "metadata": {},
   "source": [
    "# 2D Gaussian clusters\n",
    "\n",
    "## Exercise 1.1\n",
    "\n",
    "To load the dataset, the `numpy.loadtxt` method can be used. This time, the dataset file contains an header in the first line. We will skip it using the method iself."
   ]
  },
  {
   "cell_type": "code",
   "execution_count": null,
   "metadata": {},
   "outputs": [],
   "source": [
    "import numpy as np\n",
    "import matplotlib.pyplot as plt\n",
    "%matplotlib inline"
   ]
  },
  {
   "cell_type": "code",
   "execution_count": null,
   "metadata": {},
   "outputs": [],
   "source": [
    "X_gauss = ##"
   ]
  },
  {
   "attachments": {},
   "cell_type": "markdown",
   "metadata": {},
   "source": [
    "## Exercise 1.2\n",
    "\n",
    "Let's use now `matplotlib` to explore our 2D data. Which is the best plot to show 2d points?"
   ]
  },
  {
   "cell_type": "code",
   "execution_count": null,
   "metadata": {},
   "outputs": [],
   "source": [
    "def plot_2d(X):\n",
    "    \"\"\"Display a 2D plot\n",
    "\n",
    "    :param X: input data points, array\n",
    "    :return: fig, ax, objects\n",
    "    \"\"\"\n",
    "    return ##\n",
    "\n",
    "_, _ = plot_2d(X_gauss) # the two underscores let you discard the returned values"
   ]
  },
  {
   "attachments": {},
   "cell_type": "markdown",
   "metadata": {},
   "source": [
    "## Exercises 1.3\n",
    "\n",
    "Let's implement now our version of the K-means algorithm. We will use a custom Python class. The basic blocks will be:\n",
    "\n",
    "- a `fit_predict` method exposed to the users of the class\n",
    "- a stateful structure: we do want to save the final clusters labels and centroids\n",
    "- some internal plotting functions\n",
    "- a `dump_to_file` method to save cluster labels to CSV file (see Exercise 1.4)"
   ]
  },
  {
   "cell_type": "code",
   "execution_count": null,
   "metadata": {},
   "outputs": [],
   "source": [
    "class KMeans:\n",
    "    def __init__(self, n_clusters, max_iter=100):\n",
    "        self.n_clusters = n_clusters \n",
    "        self.max_iter = max_iter \n",
    "        self.centroids = None \n",
    "        self.labels = None \n",
    "\n",
    "    def fit_predict(self, X):\n",
    "        \"\"\"Run the K-means clustering on X.\n",
    "        :param X: input data points, array, shape = (N,C).\n",
    "        :return: labels : array, shape = N.\n",
    "        \"\"\" \n",
    "        pass\n"
   ]
  },
  {
   "cell_type": "code",
   "execution_count": null,
   "metadata": {},
   "outputs": [],
   "source": [
    "np.random.seed(0)\n",
    "kmeans_model = KMeans(10)\n",
    "l_gauss = kmeans_model.fit_predict(X_gauss)\n",
    "l_gauss"
   ]
  },
  {
   "cell_type": "code",
   "execution_count": null,
   "metadata": {},
   "outputs": [],
   "source": [
    "kmeans_model.dump_to_file('gauss_labels.csv')"
   ]
  },
  {
   "attachments": {},
   "cell_type": "markdown",
   "metadata": {},
   "source": [
    "## Exercise 1.4\n",
    "\n",
    "Let's analyze now the Chameleon dataset just as before."
   ]
  },
  {
   "cell_type": "code",
   "execution_count": null,
   "metadata": {},
   "outputs": [],
   "source": [
    "X_cham = ##"
   ]
  },
  {
   "cell_type": "code",
   "execution_count": null,
   "metadata": {},
   "outputs": [],
   "source": [
    "_, _ = plot_2d(X_cham)"
   ]
  },
  {
   "attachments": {},
   "cell_type": "markdown",
   "metadata": {},
   "source": [
    "## Exercise 1.5\n",
    "\n",
    "It is time to enhance our plotting toolkit. We hence define a new function that highlights the final centroids. Specifically, we can use a different marker style and color for them."
   ]
  },
  {
   "cell_type": "code",
   "execution_count": null,
   "metadata": {},
   "outputs": [],
   "source": [
    "def plot_centroids(X, c, title=None):\n",
    "    ###\n",
    "    return fig, ax"
   ]
  },
  {
   "attachments": {},
   "cell_type": "markdown",
   "metadata": {},
   "source": [
    "# Exercise 1.7\n",
    "We want to plot over the data the position of centroids. We could imagine to include the plot in the `fit_predict` function (for instance, with a flag). Eventually, it would be interested to plot also the intermidiate position of the centroids.\n",
    "\n",
    "Let's test it with Gaussian clusters."
   ]
  },
  {
   "cell_type": "code",
   "execution_count": null,
   "metadata": {},
   "outputs": [],
   "source": [
    "np.random.seed(6)\n",
    "k_gauss = KMeans(15)\n",
    "_ = k_gauss.fit_predict(X_gauss, plot_centroids=True)"
   ]
  },
  {
   "attachments": {},
   "cell_type": "markdown",
   "metadata": {},
   "source": [
    "## Exercise 2.1\n",
    "So far, we have talked about \"good\" and \"bad\" clustering results in relation with the capability of K-means to adapt to different data distribution. Our discussions were mainly founded on the final centroids positions. This visual approach could not be feasible with many more points and dimensions.\n",
    "\n",
    "Whenever numerical data is processed, several distance-based metrics can be used to assess the quality of our clustering. Let's now focus on the Silhouette measure."
   ]
  },
  {
   "cell_type": "code",
   "execution_count": null,
   "metadata": {},
   "outputs": [],
   "source": [
    "def silhouette_samples(X, labels):\n",
    "    \"\"\"Evaluate the silhouette for each point and return them as a list.\n",
    "    \n",
    "    :param X: input data points, array, shape = (N,C).\n",
    "    :param labels: the list of cluster labels, shape = N. :\n",
    "    return: silhouette : array, shape = N\n",
    "    \"\"\"\n",
    "    silhouette = np.zeros(X.shape[0])\n",
    "    for idx in range(X.shape[0]):\n",
    "        ###\n",
    "        \n",
    "    return silhouette\n",
    "\n",
    "def silhouette_score(X, labels):\n",
    "    \"\"\"Evaluate the silhouette for each point and return the mean.\n",
    "    \n",
    "    :param X: input data points, array, shape = (N,C).\n",
    "    :param labels: the list of cluster labels, shape = N. :return: silhouette : float\n",
    "    \"\"\"\n",
    "    return np.mean(silhouette_samples(X, labels))"
   ]
  },
  {
   "cell_type": "code",
   "execution_count": null,
   "metadata": {},
   "outputs": [],
   "source": [
    "np.random.seed(6)\n",
    "k_gauss = KMeans(15)\n",
    "k_cham = KMeans(6)\n",
    "\n",
    "l_gauss = k_gauss.fit_predict(X_gauss)\n",
    "l_cham = k_cham.fit_predict(X_cham)\n",
    "sil_gauss = silhouette_score(X_gauss, l_gauss)\n",
    "sil_cham = silhouette_score(X_cham, l_cham)\n",
    "\n",
    "print('Gaussian clusters, average silhouette:', sil_gauss)\n",
    "print('Chameleon clusters, average silhouette:', sil_cham)"
   ]
  },
  {
   "attachments": {},
   "cell_type": "markdown",
   "metadata": {},
   "source": [
    "## Exercise 2.2\n",
    "Let's now analyze how the Silhouette values are distributed between our points. To do so, we can plot them in ascending order on the x-axis."
   ]
  },
  {
   "cell_type": "code",
   "execution_count": null,
   "metadata": {},
   "outputs": [],
   "source": [
    "def plot_silhoeutte(silhouette, title=None):\n",
    "    fig, ax = plt.subplots(figsize=(6,6), dpi=90)\n",
    "    ###\n",
    "    \n",
    "    if title:\n",
    "        ax.set_title(title)\n",
    "    return fig, ax"
   ]
  },
  {
   "cell_type": "code",
   "execution_count": null,
   "metadata": {},
   "outputs": [],
   "source": [
    "_, _ = plot_silhoeutte(silhouette_samples(X_gauss, l_gauss), \"Silhouette for gaussian points\")\n",
    "_, _ = plot_silhoeutte(silhouette_samples(X_cham, l_cham), \"Silhouette for chameleon points\")\n"
   ]
  },
  {
   "attachments": {},
   "cell_type": "markdown",
   "metadata": {},
   "source": [
    "## Exercise 2.3\n",
    "Until now, we analized results achieved with the right number of cluster as K.\n",
    "\n",
    "Let's analyze how our average silhouette varies with different K values for the Gaussian clusters.\n"
   ]
  },
  {
   "cell_type": "code",
   "execution_count": null,
   "metadata": {},
   "outputs": [],
   "source": [
    "###"
   ]
  }
 ],
 "metadata": {
  "kernelspec": {
   "display_name": "base",
   "language": "python",
   "name": "python3"
  },
  "language_info": {
   "codemirror_mode": {
    "name": "ipython",
    "version": 3
   },
   "file_extension": ".py",
   "mimetype": "text/x-python",
   "name": "python",
   "nbconvert_exporter": "python",
   "pygments_lexer": "ipython3",
   "version": "3.9.12"
  },
  "orig_nbformat": 4,
  "vscode": {
   "interpreter": {
    "hash": "a2abf257b2adb4079ad80be3a8eaee4074fa006c61c8cda918f5cbe42d818212"
   }
  }
 },
 "nbformat": 4,
 "nbformat_minor": 2
}
