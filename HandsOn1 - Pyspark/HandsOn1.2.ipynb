{
 "cells": [
  {
   "cell_type": "code",
   "execution_count": null,
   "metadata": {},
   "outputs": [],
   "source": [
    "from datetime import datetime"
   ]
  },
  {
   "cell_type": "markdown",
   "metadata": {},
   "source": [
    "# Lab 2 - Task 1\n",
    "\n",
    "We must analyze historical data about the stations of the bike-sharing system in Barcelona. Your task consists in identifying the most “critical” timeslot (day of the week, hour) for each station, storing the result in a KML file and visualizing its content on a map. The analysis is based on two files:\n",
    "1. data/register.csv\n",
    "2. data/stations.csv\n",
    "\n",
    "Write a single Spark application that identifies the most “critical” timeslot for each station. This analysis can support the planning of the rebalancing operations among stations. Solve the problem using RDDs. **Do not use DataFrames and the other Spark SQL features for this first part**.\n",
    "In this application, each combination _“day of the week – hour”_ is a timeslot and is associated with all the readings associated with that combination, independently of the date. For\n",
    "instance, the timeslot “Wednesday - 15” corresponds to all the readings made on Wednesday from 15:00:00 to 15:59:59.\n",
    "A station Si is in the critical state if the number of free slots is equal to 0 (i.e., the station if full).\n",
    "The “criticality” of a station Si in the timeslot Tj is defined as\n",
    "\n",
    "$$\\frac{\\#\\: readings\\: with\\: free\\: slots = 0\\: (S_i, T_j)}{total\\: \\#\\: readings\\: (S_i, T_j)}$$\n",
    "\n",
    "Write an application that:\n",
    "- Computes the criticality value for each combination (Si,Tj).\n",
    "- Selects only the combinations having a criticality value greater than a minimum criticality threshold. The minimum criticality threshold is an argument of the application.\n",
    "- Selects the most critical timeslot for each station (consider only timeslots with a criticality greater than the minimum criticality threshold). If there are two or more timeslots characterized by the highest criticality value for a station, select only one of those timeslots. Specifically, select the one associated with the earliest hour. If also the hour is the same, consider the lexicographical order of the name of the week day.\n",
    "- Stores in one single (KML) file the information about the most critical timeslot for each station. Specifically, the output (KML) file must contain one marker of type\n",
    "Placemark for each combination $(S_i,most\\: critical\\: timeslot\\: for\\: S_i)$ characterized by the following features:\n",
    "    - StationId\n",
    "    - Day of the week and hour of the critical timeslot\n",
    "    - Criticality value\n",
    "    - Coordinates of the station (longitude, latitude)\n",
    "\n",
    "Do not include in the output (KML) file the stations for which there are no timeslots\n",
    "satisfying the minimum criticality threshold.\n",
    "\n",
    "### Hints\n",
    "\n",
    "- To extract hour and weekday from a timestamp, consider using the datetime package of Python (e.g., functions `strptime()` and `strftime()`)\n",
    "    - Example\n",
    "```\n",
    "from datetime import datetime\n",
    "timestamp = \"2008-05-15 12:01:00\"\n",
    "datetimeObject = datetime.strptime(timestamp, \"%Y-%m-%d %H:%M:%S\")\n",
    "dayOfTheWeek = datetimeObject.strftime(\"%a\")\n",
    "hour = datetimeObject.hour\n",
    "```\n",
    "- To create one single output file, set the number of partitions of the final RDD to 1 by\n",
    "using `coalesce(1)` before invoking the `saveAsTextFile()` method."
   ]
  },
  {
   "cell_type": "code",
   "execution_count": null,
   "metadata": {},
   "outputs": [],
   "source": [
    "# Set input and output folders\n",
    "\n",
    "inputPath  = \"data/register.csv\" # args[0]\n",
    "inputPath2 = \"data/stations.csv\" # args[1]\n",
    "threshold  = 0.4 # args[2]\n",
    "outputPath = \"out1.2\" # args[3]\n",
    "\n",
    "# Read the content of the input file register.csv\n",
    "inputRDD = sc.textFile(inputPath)\n",
    "\n",
    "# Return\n",
    "# - key = stationId\n",
    "# - value = (long, lat) \n",
    "def extractStationLongLat(line):\n",
    "    fields = line.split(\"\\t\")\n",
    "    \n",
    "    return (fields[0], (fields[1] ,fields[2]) )\n",
    "\n",
    "# Read the location of the stations\n",
    "stationLocation = sc.textFile(inputPath2).map(extractStationLongLat)"
   ]
  },
  {
   "attachments": {},
   "cell_type": "markdown",
   "metadata": {},
   "source": [
    "## Suggestions\n",
    "\n",
    "Try to think about this problem, if you get stuck, you can have a look to a list of suggested steps... But please try to do it **by yourself** first!"
   ]
  },
  {
   "cell_type": "code",
   "execution_count": null,
   "metadata": {},
   "outputs": [],
   "source": [
    "with open('suggestions1.1.txt', 'r') as f:\n",
    "    print(f.read())"
   ]
  },
  {
   "cell_type": "markdown",
   "metadata": {},
   "source": [
    "### Output format\n",
    "\n",
    "The output (KML) file must have the following format (one KML Placemark per line):\n",
    "\n",
    "```\n",
    "<Placemark>\n",
    "    <name>44</name>\n",
    "    <ExtendedData>\n",
    "        <Data name=\"DayWeek\"><value>Mon</value></Data>\n",
    "        <Data name=\"Hour\"><value>3</value></Data>\n",
    "        <Data name=\"Criticality\"><value>0.5440729483282675</value></Data>\n",
    "    </ExtendedData>\n",
    "    <Point>\n",
    "        <coordinates>2.189700,41.379047</coordinates>\n",
    "    </Point>\n",
    "</Placemark>\n",
    "<Placemark>\n",
    "    <name>9</name>\n",
    "    <ExtendedData>\n",
    "        <Data name=\"DayWeek\"><value>Sat</value></Data>\n",
    "        <Data name=\"Hour\"><value>10</value></Data>\n",
    "        <Data name=\"Criticality\"><value>0.5215827338129496</value></Data>\n",
    "    </ExtendedData>\n",
    "    <Point>\n",
    "        <coordinates>2.185294,41.385006</coordinates>\n",
    "    </Point>\n",
    "</Placemark>\n",
    "```\n",
    "\n",
    "Copy and paste the output inside a KML file formatted as follows:\n",
    "\n",
    "```\n",
    "<kml xmlns=\"http://www.opengis.net/kml/2.2\">\n",
    "    <Document>\n",
    "        ***Copy and paste here the output generated by your application***\n",
    "    </Document>\n",
    "</kml>\n",
    "```"
   ]
  },
  {
   "cell_type": "code",
   "execution_count": null,
   "metadata": {},
   "outputs": [],
   "source": [
    "# Return a string that represents a KML marker\n",
    "def formatKMLMarker(pair):\n",
    "    # input\n",
    "    # (stationId, ( (weekday, hour, criticality), (long, lat) ) )\n",
    "    stationId = pair[0]\n",
    "    \n",
    "    weekday = pair[1][0][0]\n",
    "    hour = pair[1][0][1]\n",
    "    criticality = pair[1][0][2]\n",
    "    coordinates = pair[1][1][0]+\",\"+pair[1][1][1]\n",
    "    \n",
    "    result = \"<Placemark><name>\" + stationId + \"</name>\" + \"<ExtendedData>\"\\\n",
    "    + \"<Data name=\\\"DayWeek\\\"><value>\" + weekday + \"</value></Data>\"\\\n",
    "    + \"<Data name=\\\"Hour\\\"><value>\" + str(hour) + \"</value></Data>\"\\\n",
    "    + \"<Data name=\\\"Criticality\\\"><value>\" + str(criticality) + \"</value></Data>\"\\\n",
    "    + \"</ExtendedData>\" + \"<Point>\" + \"<coordinates>\" + coordinates + \"</coordinates>\"\\\n",
    "    + \"</Point>\" + \"</Placemark>\"\n",
    "    \n",
    "    return result\n",
    "\n",
    "# Create a string containing the description of a marker, in the KML format, for each\n",
    "# sensor and the associated information\n",
    "resultKML = resultLocations.map(formatKMLMarker)"
   ]
  },
  {
   "cell_type": "code",
   "execution_count": null,
   "metadata": {
    "scrolled": false
   },
   "outputs": [],
   "source": [
    "# Set the number of partitions to 1 for resultKML and store it in the output folder\n",
    "resultKML.coalesce(1).saveAsTextFile(outputPath)"
   ]
  },
  {
   "cell_type": "markdown",
   "metadata": {},
   "source": [
    "## Visualization"
   ]
  },
  {
   "cell_type": "code",
   "execution_count": null,
   "metadata": {},
   "outputs": [],
   "source": [
    "from pathlib import Path\n",
    "\n",
    "# Opening the first (only) output file and adding at the beginning the interesting rows\n",
    "with next(Path(outputPath).glob('part*')).open('r') as f:\n",
    "    content = f'''<kml xmlns=\"http://www.opengis.net/kml/2.2\">\n",
    "                    <Document>\n",
    "                        {f.read()}\n",
    "                    </Document>\n",
    "                </kml>'''\n",
    "    with (Path(outputPath) / 'map.kml').open('w') as fw:\n",
    "        fw.write(content)\n"
   ]
  },
  {
   "cell_type": "markdown",
   "metadata": {},
   "source": [
    "Installing packages for visualization"
   ]
  },
  {
   "cell_type": "code",
   "execution_count": null,
   "metadata": {
    "scrolled": true
   },
   "outputs": [],
   "source": [
    "!pip install geopandas fiona ipyleaflet"
   ]
  },
  {
   "cell_type": "code",
   "execution_count": null,
   "metadata": {},
   "outputs": [],
   "source": [
    "import geopandas as gpd\n",
    "import fiona\n",
    "\n",
    "# Sometimes this doesn't work... try commenting this line, run the cell, uncommenting and run again... This is computer science!\n",
    "gpd.io.file.fiona.drvsupport.supported_drivers['KML'] = 'rw'\n",
    "\n",
    "df = gpd.read_file(Path(outputPath) / 'map.kml', driver='KML')\n",
    "df.head()"
   ]
  },
  {
   "cell_type": "code",
   "execution_count": null,
   "metadata": {},
   "outputs": [],
   "source": [
    "from ipyleaflet import Map, basemaps, basemap_to_tiles, Marker, MarkerCluster\n",
    "\n",
    "m = Map(\n",
    "    basemap=basemap_to_tiles(basemaps.OpenStreetMap.Mapnik),\n",
    "    center=(41.3874, 2.1686),\n",
    "    zoom=13\n",
    "    )\n",
    "\n",
    "m.add_layer(MarkerCluster(\n",
    " markers=[Marker(location=geolocation.geometry.coords[0][::-1], title=geolocation.Name) for _, geolocation in df.iterrows()])\n",
    " )\n",
    "m"
   ]
  }
 ],
 "metadata": {
  "kernelspec": {
   "display_name": "Python 3 (ipykernel)",
   "language": "python",
   "name": "python3"
  },
  "language_info": {
   "codemirror_mode": {
    "name": "ipython",
    "version": 3
   },
   "file_extension": ".py",
   "mimetype": "text/x-python",
   "name": "python",
   "nbconvert_exporter": "python",
   "pygments_lexer": "ipython3",
   "version": "3.9.12"
  },
  "vscode": {
   "interpreter": {
    "hash": "a2abf257b2adb4079ad80be3a8eaee4074fa006c61c8cda918f5cbe42d818212"
   }
  }
 },
 "nbformat": 4,
 "nbformat_minor": 4
}
